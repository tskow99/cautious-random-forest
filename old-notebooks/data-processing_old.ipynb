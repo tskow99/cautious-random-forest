{
 "cells": [
  {
   "cell_type": "markdown",
   "metadata": {},
   "source": [
    "### Load in the data"
   ]
  },
  {
   "cell_type": "code",
   "execution_count": 4,
   "metadata": {},
   "outputs": [],
   "source": [
    "## Imports \n",
    "import pandas as pd\n",
    "import matplotlib.pyplot as plt\n"
   ]
  },
  {
   "cell_type": "code",
   "execution_count": 5,
   "metadata": {},
   "outputs": [
    {
     "name": "stdout",
     "output_type": "stream",
     "text": [
      "<class 'pandas.core.frame.DataFrame'>\n",
      "RangeIndex: 60843 entries, 0 to 60842\n",
      "Data columns (total 28 columns):\n",
      " #   Column                   Non-Null Count  Dtype  \n",
      "---  ------                   --------------  -----  \n",
      " 0   Person_ID                60843 non-null  int64  \n",
      " 1   AssessmentID             60843 non-null  int64  \n",
      " 2   Case_ID                  60843 non-null  int64  \n",
      " 3   Agency_Text              60843 non-null  object \n",
      " 4   LastName                 60843 non-null  object \n",
      " 5   FirstName                60843 non-null  object \n",
      " 6   MiddleName               15624 non-null  object \n",
      " 7   Sex_Code_Text            60843 non-null  object \n",
      " 8   Ethnic_Code_Text         60843 non-null  object \n",
      " 9   DateOfBirth              60843 non-null  object \n",
      " 10  ScaleSet_ID              60843 non-null  int64  \n",
      " 11  ScaleSet                 60843 non-null  object \n",
      " 12  AssessmentReason         60843 non-null  object \n",
      " 13  Language                 60843 non-null  object \n",
      " 14  LegalStatus              60843 non-null  object \n",
      " 15  CustodyStatus            60843 non-null  object \n",
      " 16  MaritalStatus            60843 non-null  object \n",
      " 17  Screening_Date           60843 non-null  object \n",
      " 18  RecSupervisionLevel      60843 non-null  int64  \n",
      " 19  RecSupervisionLevelText  60843 non-null  object \n",
      " 20  Scale_ID                 60843 non-null  int64  \n",
      " 21  DisplayText              60843 non-null  object \n",
      " 22  RawScore                 60843 non-null  float64\n",
      " 23  DecileScore              60843 non-null  int64  \n",
      " 24  ScoreText                60798 non-null  object \n",
      " 25  AssessmentType           60843 non-null  object \n",
      " 26  IsCompleted              60843 non-null  int64  \n",
      " 27  IsDeleted                60843 non-null  int64  \n",
      "dtypes: float64(1), int64(9), object(18)\n",
      "memory usage: 13.0+ MB\n"
     ]
    }
   ],
   "source": [
    "file_path_raw = './data/compas-scores-raw.csv'\n",
    "file_path_non_violent = './data/compas-scores-two-years.csv'\n",
    "file_path_violent = './data/compas-scores-two-years.csv'\n",
    "\n",
    "compas_data_raw = pd.read_csv(file_path_raw)\n",
    "two_years_data = pd.read_csv(file_path_non_violent)\n",
    "two_years_violent_data = pd.read_csv(file_path_violent)\n",
    "compas_data_info = compas_data_raw.info()\n",
    "compas_data_head = compas_data_raw.head()\n",
    "\n"
   ]
  },
  {
   "cell_type": "code",
   "execution_count": 10,
   "metadata": {},
   "outputs": [],
   "source": [
    "def process_data(df):\n",
    "    df['above_45'] = (df['age'] > 45).astype(int)\n",
    "    df['below_25'] = (df['age'] < 25).astype(int)\n",
    "\n",
    "    df['African_American'] = (df['race'] == 'African-American').astype(int)\n",
    "    df['Asian'] = (df['race'] == 'Asian').astype(int)\n",
    "    df['Hispanic'] = (df['race'] == 'Hispanic').astype(int)\n",
    "    df['Native_American'] = (df['race'] == 'Native American').astype(int)\n",
    "    df['Other'] = (df['race'] == 'Other').astype(int)\n",
    "    df['Female'] = (df['sex'] == 'Female').astype(int)\n",
    "    df['misdemeanor'] = (df['c_charge_degree'] == 'M').astype(int)\n",
    "\n",
    "    return df\n",
    "\n",
    "def add_one_hot_encoded_columns(raw_df, merged_df):\n",
    "    key_column = 'Person_ID' \n",
    "    if key_column not in raw_df.columns:\n",
    "        raise KeyError(f\"Key column '{key_column}' not found in raw_df\")\n",
    "\n",
    "    marital_status_dummies = pd.get_dummies(raw_df['MaritalStatus'], prefix='MaritalStatus') if 'MaritalStatus' in raw_df.columns else pd.DataFrame()\n",
    "    language_dummies = pd.get_dummies(raw_df['Language'], prefix='Language') if 'Language' in raw_df.columns else pd.DataFrame()\n",
    "    raw_with_dummies = pd.concat([raw_df[[key_column]], marital_status_dummies, language_dummies], axis=1)\n",
    "    one_hot_encoded_df = pd.merge(merged_df, raw_with_dummies, left_on='id', right_on=key_column, how='left')\n",
    "    one_hot_encoded_df = one_hot_encoded_df.drop(columns=[key_column])\n",
    "\n",
    "    return one_hot_encoded_df\n",
    "\n"
   ]
  },
  {
   "cell_type": "code",
   "execution_count": null,
   "metadata": {},
   "outputs": [],
   "source": [
    "two_years_data = process_data(two_years_data)\n",
    "two_years_violent_data = process_data(two_years_violent_data)\n",
    "\n",
    "# Merge datasets on shared identifiers\n",
    "merged_data = pd.merge(\n",
    "    two_years_data,\n",
    "    two_years_violent_data,\n",
    "    on='id',\n",
    "    suffixes=('_general', '_violent'),\n",
    "    how='outer'\n",
    ")\n",
    "\n",
    "columns_of_interest = [\n",
    "    'priors_count', 'above_45', 'below_25', 'African_American', 'Asian',\n",
    "    'Hispanic', 'Native_American', 'Other', 'Female', 'misdemeanor',\n",
    "    'v_decile_score', 'age', 'juv_fel_count', 'two_year_recid', 'is_recid'\n",
    "]\n",
    "additional_features = [\n",
    "    'juv_misd_count', 'juv_other_count', 'days_b_screening_arrest', \n",
    "    'c_charge_desc', 'screening_date', 'decile_score', 'score_text'\n",
    "]\n",
    "additional_features = [col for col in additional_features if col in merged_data.columns]\n",
    "merged_data = merged_data[additional_features]\n",
    "\n",
    "final_data = add_one_hot_encoded_columns(compas_data_raw, merged_data)\n",
    "\n",
    "final_output_path = './data/compas_final_combined_dataset.csv'\n",
    "final_data.to_csv(final_output_path, index=False)\n",
    "\n"
   ]
  }
 ],
 "metadata": {
  "kernelspec": {
   "display_name": "dataviz",
   "language": "python",
   "name": "python3"
  },
  "language_info": {
   "codemirror_mode": {
    "name": "ipython",
    "version": 3
   },
   "file_extension": ".py",
   "mimetype": "text/x-python",
   "name": "python",
   "nbconvert_exporter": "python",
   "pygments_lexer": "ipython3",
   "version": "3.10.12"
  }
 },
 "nbformat": 4,
 "nbformat_minor": 2
}
