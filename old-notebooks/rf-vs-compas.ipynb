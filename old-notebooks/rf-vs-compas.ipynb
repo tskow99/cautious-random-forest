{
 "cells": [
  {
   "cell_type": "code",
   "execution_count": 38,
   "metadata": {},
   "outputs": [],
   "source": [
    "## Imports \n",
    "import pandas as pd\n",
    "import matplotlib.pyplot as plt\n",
    "import numpy as np\n",
    "from sklearn.ensemble import RandomForestClassifier as RF\n",
    "from sklearn.metrics import accuracy_score\n",
    "from sklearn.model_selection import train_test_split\n",
    "from sklearn.model_selection import cross_val_score\n",
    "from sklearn.model_selection import GridSearchCV\n",
    "import itertools\n",
    "from sklearn import metrics\n",
    "from sklearn.model_selection import KFold\n",
    "from sklearn.metrics import accuracy_score, precision_score, recall_score\n"
   ]
  },
  {
   "cell_type": "code",
   "execution_count": 39,
   "metadata": {},
   "outputs": [],
   "source": [
    "df = pd.read_csv('./data/compas_data_combined_matches.csv')\n",
    "columns_to_drop = ['FirstName', 'LastName', 'DateOfBirth', 'id', 'v_decile_score', 'DecileScore_Risk of Failure to Appear','race', 'DecileScore_Risk of Recidivism', 'DecileScore_Risk of Violence', 'RawScore_Risk of Failure to Appear', 'RawScore_Risk of Recidivism', 'RawScore_Risk of Violence', '_merge', 'sex', 'c_charge_desc']\n",
    "rf_dataset = df.drop(columns=columns_to_drop)\n",
    "\n"
   ]
  },
  {
   "cell_type": "code",
   "execution_count": 40,
   "metadata": {},
   "outputs": [],
   "source": [
    "na_counts = rf_dataset.isna().sum()\n",
    "na_columns = na_counts[na_counts > 0] \n",
    "nans = na_columns.to_dict()\n",
    "columns_to_remove = []\n",
    "for key in nans.keys():\n",
    "    columns_to_remove.append(key)\n",
    "rf_dataset = rf_dataset.drop(columns=columns_to_remove)\n",
    "labels = rf_dataset.two_year_recid\n",
    "compass_preds = rf_dataset.score_text\n",
    "rf_dataset = rf_dataset.drop(columns=['two_year_recid', 'is_recid', 'score_text'])\n"
   ]
  },
  {
   "cell_type": "code",
   "execution_count": 41,
   "metadata": {},
   "outputs": [
    {
     "name": "stdout",
     "output_type": "stream",
     "text": [
      "0.6838111298482293\n",
      "[0.69327731 0.64285714 0.64978903 0.66244726 0.71308017 0.64135021\n",
      " 0.7257384  0.67932489 0.71308017 0.61603376]\n"
     ]
    }
   ],
   "source": [
    "best_params = {'max_depth': 10, 'max_features': 'sqrt', 'min_samples_leaf': 1, 'min_samples_split': 10, 'n_estimators': 100}\n",
    "kf=KFold(n_splits=10)\n",
    "kf=KFold(n_splits=10)\n",
    "X_train, X_test, y_train, y_test=train_test_split(rf_dataset,\n",
    "                                                  labels,\n",
    "                                                  test_size=0.33,\n",
    "                                                  random_state=0)\n",
    "clf=RF(**best_params, random_state=42)\n",
    "clf.fit(X_train,y_train)\n",
    "score=clf.score(X_test,y_test)\n",
    "cvscore=cross_val_score(clf,X_test,y_test,cv=10)\n",
    "print(score)\n",
    "print(cvscore)\n",
    "\n",
    "\n",
    "\n",
    "\n",
    "\n"
   ]
  },
  {
   "cell_type": "code",
   "execution_count": 42,
   "metadata": {},
   "outputs": [
    {
     "name": "stdout",
     "output_type": "stream",
     "text": [
      "Accuracy: 0.6545581071677105\n",
      "Precision: 0.6137805983680871\n",
      "Recall: 0.6278207109737249\n"
     ]
    }
   ],
   "source": [
    "compass_preds = compass_preds.replace({'Low': 0, 'Medium': 1, 'High': 1})\n",
    "accuracy = accuracy_score(labels, compass_preds)\n",
    "precision = precision_score(labels, compass_preds, zero_division=0)  # Handle division by zero\n",
    "recall = recall_score(labels, compass_preds, zero_division=0)\n",
    "\n",
    "print(f\"Accuracy: {accuracy}\")\n",
    "print(f\"Precision: {precision}\")\n",
    "print(f\"Recall: {recall}\")\n"
   ]
  }
 ],
 "metadata": {
  "kernelspec": {
   "display_name": "dataviz",
   "language": "python",
   "name": "python3"
  },
  "language_info": {
   "codemirror_mode": {
    "name": "ipython",
    "version": 3
   },
   "file_extension": ".py",
   "mimetype": "text/x-python",
   "name": "python",
   "nbconvert_exporter": "python",
   "pygments_lexer": "ipython3",
   "version": "3.10.12"
  }
 },
 "nbformat": 4,
 "nbformat_minor": 2
}
